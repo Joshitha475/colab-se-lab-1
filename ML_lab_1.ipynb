{
  "nbformat": 4,
  "nbformat_minor": 0,
  "metadata": {
    "colab": {
      "provenance": [],
      "authorship_tag": "ABX9TyOuM0Aq2JhVkqLQd7QV3Uta",
      "include_colab_link": true
    },
    "kernelspec": {
      "name": "python3",
      "display_name": "Python 3"
    },
    "language_info": {
      "name": "python"
    }
  },
  "cells": [
    {
      "cell_type": "markdown",
      "metadata": {
        "id": "view-in-github",
        "colab_type": "text"
      },
      "source": [
        "<a href=\"https://colab.research.google.com/github/Joshitha475/colab-se-lab-1/blob/main/ML_lab_1.ipynb\" target=\"_parent\"><img src=\"https://colab.research.google.com/assets/colab-badge.svg\" alt=\"Open In Colab\"/></a>"
      ]
    },
    {
      "cell_type": "code",
      "execution_count": 1,
      "metadata": {
        "colab": {
          "base_uri": "https://localhost:8080/"
        },
        "id": "vVZQLfHUNmVI",
        "outputId": "2080654e-9e28-4d50-8218-bd6c2247a896"
      },
      "outputs": [
        {
          "output_type": "stream",
          "name": "stdout",
          "text": [
            "The predicated price for a house with square footage of 1500 is: 6201000.0\n"
          ]
        }
      ],
      "source": [
        "import numpy as np\n",
        "x = np.array([1000, 1200, 1300, 1400, 1600])\n",
        "y = np.array([200000, 250000, 280000, 300000, 350000])\n",
        "\n",
        "N = len(x)\n",
        "x_mean = np.mean(x)\n",
        "y_mean = np.mean(y)\n",
        "x_var = np.var(x,ddof=1)\n",
        "y_var = np.var(y,ddof=1)\n",
        "cov = np.cov(x,y, ddof=1)[0][1]\n",
        "b1 = cov /x_var\n",
        "b0 = y_mean - b1 * x_mean\n",
        "def predict(x):\n",
        "  return b0 + b1 * x\n",
        "\n",
        "print(\"The predicated price for a house with square footage of 1500 is:\", predict(25000))"
      ]
    },
    {
      "cell_type": "code",
      "source": [],
      "metadata": {
        "id": "t60BMNW-SAtm"
      },
      "execution_count": null,
      "outputs": []
    },
    {
      "cell_type": "code",
      "execution_count": 2,
      "metadata": {
        "colab": {
          "base_uri": "https://localhost:8080/"
        },
        "outputId": "f2451e8e-64d7-4692-f88a-4275968237d5",
        "id": "WvkERFdkSc1D"
      },
      "outputs": [
        {
          "output_type": "stream",
          "name": "stdout",
          "text": [
            "The predicated price for 24 karat gold per 10 gram gold is: 3677.8499999999767\n"
          ]
        }
      ],
      "source": [
        "import numpy as np\n",
        "x = np.array([2015,2016,2017,2018,2019])\n",
        "y = np.array([2500,3050,2966.75,3143.8,3522])\n",
        "\n",
        "N = len(x)\n",
        "x_mean = np.mean(x)\n",
        "y_mean = np.mean(y)\n",
        "x_var = np.var(x,ddof=1)\n",
        "y_var = np.var(y,ddof=1)\n",
        "cov = np.cov(x,y, ddof=1)[0][1]\n",
        "b1 = cov /x_var\n",
        "b0 = y_mean - b1 * x_mean\n",
        "def predict(x):\n",
        "  return b0 + b1 * x\n",
        "\n",
        "print(\"The predicated price for 24 karat gold per 10 gram gold is:\", predict(2020))"
      ]
    },
    {
      "cell_type": "code",
      "source": [],
      "metadata": {
        "id": "4aNXB3CxX9jX"
      },
      "execution_count": null,
      "outputs": []
    }
  ]
}